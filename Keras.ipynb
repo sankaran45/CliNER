{
  "nbformat": 4,
  "nbformat_minor": 0,
  "metadata": {
    "colab": {
      "name": "Keras.ipynb",
      "provenance": [],
      "collapsed_sections": [],
      "toc_visible": true,
      "include_colab_link": true
    },
    "kernelspec": {
      "name": "python3",
      "display_name": "Python 3"
    },
    "accelerator": "GPU"
  },
  "cells": [
    {
      "cell_type": "markdown",
      "metadata": {
        "id": "view-in-github",
        "colab_type": "text"
      },
      "source": [
        "<a href=\"https://colab.research.google.com/github/sankaran45/CliNER/blob/master/Keras.ipynb\" target=\"_parent\"><img src=\"https://colab.research.google.com/assets/colab-badge.svg\" alt=\"Open In Colab\"/></a>"
      ]
    },
    {
      "cell_type": "code",
      "metadata": {
        "id": "KlHbCzKLZn2d",
        "colab_type": "code",
        "colab": {
          "base_uri": "https://localhost:8080/",
          "height": 122
        },
        "outputId": "20790e40-b4aa-4c34-a595-60f48eb2a6b1"
      },
      "source": [
        "from google.colab import drive\n",
        "drive.mount('/content/drive')"
      ],
      "execution_count": 3,
      "outputs": [
        {
          "output_type": "stream",
          "text": [
            "Go to this URL in a browser: https://accounts.google.com/o/oauth2/auth?client_id=947318989803-6bn6qk8qdgf4n4g3pfee6491hc0brc4i.apps.googleusercontent.com&redirect_uri=urn%3aietf%3awg%3aoauth%3a2.0%3aoob&response_type=code&scope=email%20https%3a%2f%2fwww.googleapis.com%2fauth%2fdocs.test%20https%3a%2f%2fwww.googleapis.com%2fauth%2fdrive%20https%3a%2f%2fwww.googleapis.com%2fauth%2fdrive.photos.readonly%20https%3a%2f%2fwww.googleapis.com%2fauth%2fpeopleapi.readonly\n",
            "\n",
            "Enter your authorization code:\n",
            "··········\n",
            "Mounted at /content/drive\n"
          ],
          "name": "stdout"
        }
      ]
    },
    {
      "cell_type": "code",
      "metadata": {
        "id": "ljLNuUv-Xibc",
        "colab_type": "code",
        "colab": {}
      },
      "source": [
        "!cp /content/drive/My\\ Drive/Cliner/* /content/\n",
        "!tar -xvf /content/ner.tar.gz "
      ],
      "execution_count": 0,
      "outputs": []
    },
    {
      "cell_type": "code",
      "metadata": {
        "id": "w16iVRaodiQF",
        "colab_type": "code",
        "colab": {}
      },
      "source": [
        "!pip install tensorflow==2.0.0\n",
        "!pip install tensorflow_addons==0.6.0"
      ],
      "execution_count": 0,
      "outputs": []
    },
    {
      "cell_type": "code",
      "metadata": {
        "id": "miQVuIzd-yma",
        "colab_type": "code",
        "outputId": "303b0d0f-974d-4b54-9019-4d01fb035d94",
        "colab": {
          "base_uri": "https://localhost:8080/",
          "height": 1000
        }
      },
      "source": [
        "  # train give a name and we will cpy it there\n",
        "  import os\n",
        "  from cliner import addpath\n",
        "  addpath(\"common\")\n",
        "  addpath(\"train\")\n",
        "  addpath(\"models\")\n",
        "  addpath(\"extras\")\n",
        "  import train\n",
        "  train.dotrain(config='params.txt')"
      ],
      "execution_count": 1,
      "outputs": [
        {
          "output_type": "stream",
          "text": [
            "Loading preprocessed state from - models/prod/prod.pickle\n"
          ],
          "name": "stdout"
        },
        {
          "output_type": "stream",
          "text": [
            "Using TensorFlow backend.\n",
            "/usr/local/lib/python3.6/dist-packages/sklearn/base.py:318: UserWarning: Trying to unpickle estimator LabelEncoder from version 0.22 when using version 0.22.1. This might lead to breaking code or invalid results. Use at your own risk.\n",
            "  UserWarning)\n"
          ],
          "name": "stderr"
        },
        {
          "output_type": "stream",
          "text": [
            "Creating new model ...\n",
            "Loss Weights:\n",
            "{'con': 1}\n",
            "Losses:\n",
            "{'con': 'categorical_crossentropy'}\n",
            "Checkpointing initial state, you can now use --continue to restart training\n",
            "Saving model to - models/prod/prod.h5\n",
            "VOCAB SIZE 14915\n",
            "UNIQUE con LABELS: 7 \n",
            "UNIQUE ast LABELS: 13 \n",
            "Model: \"model\"\n",
            "_________________________________________________________________\n",
            "Layer (type)                 Output Shape              Param #   \n",
            "=================================================================\n",
            "main_input (InputLayer)      [(None, 100)]             0         \n",
            "_________________________________________________________________\n",
            "word_embedding (Embedding)   (None, 100, 600)          8949000   \n",
            "_________________________________________________________________\n",
            "conv1d (Conv1D)              (None, 100, 100)          60100     \n",
            "_________________________________________________________________\n",
            "batch_normalization (BatchNo (None, 100, 100)          400       \n",
            "_________________________________________________________________\n",
            "conv1d_1 (Conv1D)            (None, 100, 100)          10100     \n",
            "_________________________________________________________________\n",
            "batch_normalization_1 (Batch (None, 100, 100)          400       \n",
            "_________________________________________________________________\n",
            "Dropout1 (Dropout)           (None, 100, 100)          0         \n",
            "_________________________________________________________________\n",
            "bidirectional (Bidirectional (None, 100, 100)          60400     \n",
            "_________________________________________________________________\n",
            "Dropout2 (Dropout)           (None, 100, 100)          0         \n",
            "_________________________________________________________________\n",
            "bidirectional_1 (Bidirection (None, 100, 100)          60400     \n",
            "_________________________________________________________________\n",
            "Dropout3 (Dropout)           (None, 100, 100)          0         \n",
            "_________________________________________________________________\n",
            "FC (TimeDistributed)         (None, 100, 50)           5050      \n",
            "_________________________________________________________________\n",
            "con (Dense)                  (None, 100, 7)            357       \n",
            "=================================================================\n",
            "Total params: 9,146,207\n",
            "Trainable params: 196,807\n",
            "Non-trainable params: 8,949,400\n",
            "_________________________________________________________________\n",
            "None\n",
            "Data has ast label but it is not enabled, skipping\n",
            "KFOLD with 5 splits\n",
            "TRAIN-RUN-1\n",
            "Train on 13052 samples, validate on 3263 samples\n",
            "Epoch 1/200\n",
            "13024/13052 [============================>.] - ETA: 0s - loss: 0.0976 - accuracy: 0.9766\n",
            "Epoch 00001: val_loss improved from inf to 0.04721, saving model to models/prod/chkpt-prod.h5\n",
            "13052/13052 [==============================] - 25s 2ms/sample - loss: 0.0976 - accuracy: 0.9766 - val_loss: 0.0472 - val_accuracy: 0.9852\n",
            "Epoch 2/200\n",
            "12992/13052 [============================>.] - ETA: 0s - loss: 0.0396 - accuracy: 0.9879\n",
            "Epoch 00002: val_loss improved from 0.04721 to 0.03048, saving model to models/prod/chkpt-prod.h5\n",
            "13052/13052 [==============================] - 17s 1ms/sample - loss: 0.0396 - accuracy: 0.9879 - val_loss: 0.0305 - val_accuracy: 0.9905\n",
            "Epoch 3/200\n",
            "12992/13052 [============================>.] - ETA: 0s - loss: 0.0299 - accuracy: 0.9907\n",
            "Epoch 00003: val_loss improved from 0.03048 to 0.02633, saving model to models/prod/chkpt-prod.h5\n",
            "13052/13052 [==============================] - 16s 1ms/sample - loss: 0.0299 - accuracy: 0.9907 - val_loss: 0.0263 - val_accuracy: 0.9918\n",
            "Epoch 4/200\n",
            "13024/13052 [============================>.] - ETA: 0s - loss: 0.0261 - accuracy: 0.9919\n",
            "Epoch 00004: val_loss improved from 0.02633 to 0.02455, saving model to models/prod/chkpt-prod.h5\n",
            "13052/13052 [==============================] - 16s 1ms/sample - loss: 0.0261 - accuracy: 0.9919 - val_loss: 0.0246 - val_accuracy: 0.9923\n",
            "Epoch 5/200\n",
            "13024/13052 [============================>.] - ETA: 0s - loss: 0.0240 - accuracy: 0.9925\n",
            "Epoch 00005: val_loss improved from 0.02455 to 0.02374, saving model to models/prod/chkpt-prod.h5\n",
            "13052/13052 [==============================] - 16s 1ms/sample - loss: 0.0240 - accuracy: 0.9925 - val_loss: 0.0237 - val_accuracy: 0.9925\n",
            "Epoch 6/200\n",
            "13024/13052 [============================>.] - ETA: 0s - loss: 0.0220 - accuracy: 0.9932\n",
            "Epoch 00006: val_loss improved from 0.02374 to 0.02219, saving model to models/prod/chkpt-prod.h5\n",
            "13052/13052 [==============================] - 16s 1ms/sample - loss: 0.0220 - accuracy: 0.9932 - val_loss: 0.0222 - val_accuracy: 0.9930\n",
            "Epoch 7/200\n",
            "13024/13052 [============================>.] - ETA: 0s - loss: 0.0205 - accuracy: 0.9935\n",
            "Epoch 00007: val_loss improved from 0.02219 to 0.02216, saving model to models/prod/chkpt-prod.h5\n",
            "13052/13052 [==============================] - 16s 1ms/sample - loss: 0.0205 - accuracy: 0.9935 - val_loss: 0.0222 - val_accuracy: 0.9930\n",
            "Epoch 8/200\n",
            "12992/13052 [============================>.] - ETA: 0s - loss: 0.0191 - accuracy: 0.9939\n",
            "Epoch 00008: val_loss did not improve from 0.02216\n",
            "13052/13052 [==============================] - 16s 1ms/sample - loss: 0.0192 - accuracy: 0.9939 - val_loss: 0.8387 - val_accuracy: 0.8936\n",
            "Epoch 9/200\n",
            "13024/13052 [============================>.] - ETA: 0s - loss: 0.0181 - accuracy: 0.9943\n",
            "Epoch 00009: val_loss improved from 0.02216 to 0.02114, saving model to models/prod/chkpt-prod.h5\n",
            "13052/13052 [==============================] - 15s 1ms/sample - loss: 0.0181 - accuracy: 0.9943 - val_loss: 0.0211 - val_accuracy: 0.9934\n",
            "Epoch 10/200\n",
            "13024/13052 [============================>.] - ETA: 0s - loss: 0.0173 - accuracy: 0.9945\n",
            "Epoch 00010: val_loss did not improve from 0.02114\n",
            "13052/13052 [==============================] - 15s 1ms/sample - loss: 0.0174 - accuracy: 0.9945 - val_loss: 0.0213 - val_accuracy: 0.9937\n",
            "Epoch 11/200\n",
            "13024/13052 [============================>.] - ETA: 0s - loss: 0.0164 - accuracy: 0.9947\n",
            "Epoch 00011: val_loss did not improve from 0.02114\n",
            "13052/13052 [==============================] - 15s 1ms/sample - loss: 0.0164 - accuracy: 0.9947 - val_loss: 0.0225 - val_accuracy: 0.9935\n",
            "Epoch 12/200\n",
            "13024/13052 [============================>.] - ETA: 0s - loss: 0.0159 - accuracy: 0.9949\n",
            "Epoch 00012: val_loss improved from 0.02114 to 0.02088, saving model to models/prod/chkpt-prod.h5\n",
            "13052/13052 [==============================] - 15s 1ms/sample - loss: 0.0159 - accuracy: 0.9949 - val_loss: 0.0209 - val_accuracy: 0.9936\n",
            "Epoch 13/200\n",
            "13024/13052 [============================>.] - ETA: 0s - loss: 0.0151 - accuracy: 0.9951\n",
            "Epoch 00013: val_loss did not improve from 0.02088\n",
            "13052/13052 [==============================] - 15s 1ms/sample - loss: 0.0151 - accuracy: 0.9951 - val_loss: 0.0211 - val_accuracy: 0.9937\n",
            "Epoch 14/200\n",
            "13024/13052 [============================>.] - ETA: 0s - loss: 0.0146 - accuracy: 0.9953\n",
            "Epoch 00014: val_loss did not improve from 0.02088\n",
            "13052/13052 [==============================] - 16s 1ms/sample - loss: 0.0146 - accuracy: 0.9953 - val_loss: 0.0223 - val_accuracy: 0.9935\n",
            "Epoch 15/200\n",
            "13024/13052 [============================>.] - ETA: 0s - loss: 0.0143 - accuracy: 0.9954\n",
            "Epoch 00015: val_loss improved from 0.02088 to 0.02083, saving model to models/prod/chkpt-prod.h5\n",
            "13052/13052 [==============================] - 15s 1ms/sample - loss: 0.0143 - accuracy: 0.9954 - val_loss: 0.0208 - val_accuracy: 0.9938\n",
            "Epoch 16/200\n",
            "13024/13052 [============================>.] - ETA: 0s - loss: 0.0137 - accuracy: 0.9956\n",
            "Epoch 00016: val_loss did not improve from 0.02083\n",
            "13052/13052 [==============================] - 15s 1ms/sample - loss: 0.0137 - accuracy: 0.9956 - val_loss: 0.0213 - val_accuracy: 0.9938\n",
            "Epoch 17/200\n",
            "13024/13052 [============================>.] - ETA: 0s - loss: 0.0131 - accuracy: 0.9958\n",
            "Epoch 00017: val_loss did not improve from 0.02083\n",
            "13052/13052 [==============================] - 15s 1ms/sample - loss: 0.0132 - accuracy: 0.9958 - val_loss: 0.0213 - val_accuracy: 0.9939\n",
            "Epoch 18/200\n",
            "13024/13052 [============================>.] - ETA: 0s - loss: 0.0129 - accuracy: 0.9958\n",
            "Epoch 00018: val_loss did not improve from 0.02083\n",
            "13052/13052 [==============================] - 15s 1ms/sample - loss: 0.0129 - accuracy: 0.9958 - val_loss: 0.0211 - val_accuracy: 0.9940\n",
            "Epoch 19/200\n",
            "13024/13052 [============================>.] - ETA: 0s - loss: 0.0124 - accuracy: 0.9960\n",
            "Epoch 00019: val_loss did not improve from 0.02083\n",
            "13052/13052 [==============================] - 15s 1ms/sample - loss: 0.0124 - accuracy: 0.9959 - val_loss: 0.0217 - val_accuracy: 0.9938\n",
            "Epoch 20/200\n",
            "13024/13052 [============================>.] - ETA: 0s - loss: 0.0120 - accuracy: 0.9961\n",
            "Epoch 00020: val_loss did not improve from 0.02083\n",
            "13052/13052 [==============================] - 15s 1ms/sample - loss: 0.0120 - accuracy: 0.9961 - val_loss: 0.0225 - val_accuracy: 0.9937\n",
            "EVALUATE=====================\n",
            "['loss', 'accuracy']\n",
            "[0.010952966213633755, 0.99666506]\n",
            "PREDICT=====================\n",
            "RUN TRAIN-RUN-1: Predicting from 16315 sentences\n",
            "Data has ast label but it is not enabled, skipping\n"
          ],
          "name": "stdout"
        },
        {
          "output_type": "stream",
          "text": [
            "/usr/local/lib/python3.6/dist-packages/sklearn/utils/deprecation.py:144: FutureWarning: The sklearn.preprocessing.label module is  deprecated in version 0.22 and will be removed in version 0.24. The corresponding classes / functions should instead be imported from sklearn.preprocessing. Anything that cannot be imported from sklearn.preprocessing is now part of the private API.\n",
            "  warnings.warn(message, FutureWarning)\n"
          ],
          "name": "stderr"
        },
        {
          "output_type": "stream",
          "text": [
            "['B-problem', 'B-test', 'B-treatment', 'I-problem', 'I-test', 'I-treatment', 'O']\n",
            "              precision    recall  f1-score   support\n",
            "\n",
            "           0       0.92      0.88      0.90      7065\n",
            "           1       0.90      0.92      0.91      4605\n",
            "           2       0.90      0.87      0.88      4823\n",
            "           3       0.93      0.91      0.92     10250\n",
            "           4       0.89      0.93      0.91      3886\n",
            "           5       0.90      0.85      0.87      4087\n",
            "           6       0.98      0.98      0.98    114586\n",
            "\n",
            "    accuracy                           0.96    149302\n",
            "   macro avg       0.92      0.91      0.91    149302\n",
            "weighted avg       0.96      0.96      0.96    149302\n",
            "\n",
            "{'total': 16315, 'mismatch': {'con': 2512}}\n",
            "\n",
            "\n",
            "writing unmatched to: data/pred/TRAIN-RUN-1.failed\n",
            "Saved to data/pred/TRAIN-RUN-1.csv\n",
            "Accuracy plot saved to - models/prod/accuracy-0.png\n",
            "Loss plot saved to - models/prod/loss-0.png\n",
            "--  ---  ---------  --------  ---------  --------\n",
            " 0  nan  0.097562   0.976564  0.0472051  0.985222\n",
            " 1  nan  0.0395512  0.98787   0.0304811  0.990527\n",
            " 2  nan  0.0298658  0.9907    0.0263338  0.991805\n",
            " 3  nan  0.0261298  0.991908  0.0245509  0.992286\n",
            " 4  nan  0.0239609  0.992511  0.0237367  0.992538\n",
            " 5  nan  0.0219564  0.993159  0.022186   0.992997\n",
            " 6  nan  0.0204865  0.993513  0.0221641  0.993034\n",
            " 7  nan  0.0191741  0.993871  0.838689   0.893589\n",
            " 8  nan  0.0181088  0.994268  0.0211382  0.993383\n",
            " 9  nan  0.0173519  0.994476  0.0212669  0.993687\n",
            "10  nan  0.0163702  0.994708  0.0224597  0.993521\n",
            "11  nan  0.0158832  0.994947  0.0208762  0.993616\n",
            "12  nan  0.0151349  0.995143  0.0211361  0.993681\n",
            "13  nan  0.0146043  0.995318  0.0223367  0.99354\n",
            "14  nan  0.0143016  0.995376  0.0208296  0.993831\n",
            "15  nan  0.0137158  0.995591  0.0213455  0.993763\n",
            "16  nan  0.013154   0.99575   0.0212937  0.993874\n",
            "17  nan  0.0129352  0.99583   0.0211491  0.993963\n",
            "18  nan  0.0124297  0.99594   0.0217028  0.993825\n",
            "19  nan  0.0120155  0.996118  0.0225223  0.993733\n",
            "--  ---  ---------  --------  ---------  --------\n",
            "History saved to - models/prod/history.csv\n",
            "training done...\n"
          ],
          "name": "stdout"
        },
        {
          "output_type": "display_data",
          "data": {
            "image/png": "[encoded data removed]",
            "text/plain": [
              "<Figure size 432x288 with 1 Axes>"
            ]
          },
          "metadata": {
            "tags": []
          }
        }
      ]
    },
    {
      "cell_type": "code",
      "metadata": {
        "id": "9XXIF2BlStuv",
        "colab_type": "code",
        "colab": {
          "base_uri": "https://localhost:8080/",
          "height": 1000
        },
        "outputId": "2e81a58c-dc3b-4493-a5a3-5f828cdd8ebd"
      },
      "source": [
        "  #predict (copy the relevant model and restart first)\n",
        "  import os\n",
        "  from cliner import addpath\n",
        "  addpath(\"common\")\n",
        "  addpath(\"predict\")\n",
        "  addpath(\"models\")\n",
        "  addpath(\"extras\")\n",
        "  import predict\n",
        "  predict.dopredict(config='params.txt', compare=True, use_prepared=True)"
      ],
      "execution_count": 2,
      "outputs": [
        {
          "output_type": "stream",
          "text": [
            "Loading preprocessed state from - models/prod/prod.pickle\n"
          ],
          "name": "stdout"
        },
        {
          "output_type": "stream",
          "text": [
            "/usr/local/lib/python3.6/dist-packages/sklearn/base.py:318: UserWarning: Trying to unpickle estimator LabelEncoder from version 0.22 when using version 0.22.1. This might lead to breaking code or invalid results. Use at your own risk.\n",
            "  UserWarning)\n"
          ],
          "name": "stderr"
        },
        {
          "output_type": "stream",
          "text": [
            "VOCAB SIZE 14915\n",
            "UNIQUE con LABELS: 7 \n",
            "UNIQUE ast LABELS: 13 \n",
            "Model: \"model\"\n",
            "_________________________________________________________________\n",
            "Layer (type)                 Output Shape              Param #   \n",
            "=================================================================\n",
            "main_input (InputLayer)      [(None, 100)]             0         \n",
            "_________________________________________________________________\n",
            "word_embedding (Embedding)   (None, 100, 600)          8949000   \n",
            "_________________________________________________________________\n",
            "conv1d (Conv1D)              (None, 100, 100)          60100     \n",
            "_________________________________________________________________\n",
            "batch_normalization (BatchNo (None, 100, 100)          400       \n",
            "_________________________________________________________________\n",
            "conv1d_1 (Conv1D)            (None, 100, 100)          10100     \n",
            "_________________________________________________________________\n",
            "batch_normalization_1 (Batch (None, 100, 100)          400       \n",
            "_________________________________________________________________\n",
            "Dropout1 (Dropout)           (None, 100, 100)          0         \n",
            "_________________________________________________________________\n",
            "bidirectional (Bidirectional (None, 100, 100)          60400     \n",
            "_________________________________________________________________\n",
            "Dropout2 (Dropout)           (None, 100, 100)          0         \n",
            "_________________________________________________________________\n",
            "bidirectional_1 (Bidirection (None, 100, 100)          60400     \n",
            "_________________________________________________________________\n",
            "Dropout3 (Dropout)           (None, 100, 100)          0         \n",
            "_________________________________________________________________\n",
            "FC (TimeDistributed)         (None, 100, 50)           5050      \n",
            "_________________________________________________________________\n",
            "con (Dense)                  (None, 100, 7)            357       \n",
            "=================================================================\n",
            "Total params: 9,146,207\n",
            "Trainable params: 196,807\n",
            "Non-trainable params: 8,949,400\n",
            "_________________________________________________________________\n",
            "None\n",
            "Predicting from train sentences processed during prepare\n",
            "RUN predict-train: Predicting from 16315 sentences\n",
            "['B-problem', 'B-test', 'B-treatment', 'I-problem', 'I-test', 'I-treatment', 'O']\n",
            "              precision    recall  f1-score   support\n",
            "\n",
            "           0       0.92      0.88      0.90      7065\n",
            "           1       0.91      0.90      0.90      4605\n",
            "           2       0.85      0.88      0.87      4823\n",
            "           3       0.94      0.88      0.91     10250\n",
            "           4       0.91      0.90      0.90      3886\n",
            "           5       0.88      0.81      0.84      4087\n",
            "           6       0.97      0.98      0.98    114586\n",
            "\n",
            "    accuracy                           0.96    149302\n",
            "   macro avg       0.91      0.89      0.90    149302\n",
            "weighted avg       0.96      0.96      0.96    149302\n",
            "\n",
            "{'total': 16315, 'mismatch': {'con': 2742}}\n",
            "\n",
            "\n",
            "writing unmatched to: data/pred/predict-train.failed\n",
            "Saved to data/pred/predict-train.csv\n",
            "Predicting from test sentences processed during prepare\n",
            "RUN predict-test: Predicting from 27626 sentences\n",
            "['B-problem', 'B-test', 'B-treatment', 'I-problem', 'I-test', 'I-treatment', 'O']\n",
            "              precision    recall  f1-score   support\n",
            "\n",
            "           0       0.86      0.82      0.84     12587\n",
            "           1       0.85      0.84      0.85      9225\n",
            "           2       0.80      0.82      0.81      9325\n",
            "           3       0.85      0.78      0.82     17678\n",
            "           4       0.84      0.78      0.81      8012\n",
            "           5       0.80      0.73      0.76      7944\n",
            "           6       0.96      0.97      0.96    202315\n",
            "\n",
            "    accuracy                           0.93    267086\n",
            "   macro avg       0.85      0.82      0.83    267086\n",
            "weighted avg       0.93      0.93      0.93    267086\n",
            "\n",
            "{'total': 27626, 'mismatch': {'con': 6951}}\n",
            "\n",
            "\n",
            "writing unmatched to: data/pred/predict-test.failed\n",
            "Saved to data/pred/predict-test.csv\n"
          ],
          "name": "stdout"
        }
      ]
    },
    {
      "cell_type": "code",
      "metadata": {
        "id": "tEV2M0CLnISO",
        "colab_type": "code",
        "colab": {}
      },
      "source": [
        "!mkdir data/pred"
      ],
      "execution_count": 0,
      "outputs": []
    },
    {
      "cell_type": "code",
      "metadata": {
        "id": "pFZGk6RW1eu8",
        "colab_type": "code",
        "colab": {}
      },
      "source": [
        "train.dotrain(config='params.txt',continue_train=True)"
      ],
      "execution_count": 0,
      "outputs": []
    },
    {
      "cell_type": "code",
      "metadata": {
        "id": "nbDplLq5WqvZ",
        "colab_type": "code",
        "colab": {}
      },
      "source": [
        "train.dotrain(config='params.txt',continue_train=True)"
      ],
      "execution_count": 0,
      "outputs": []
    },
    {
      "cell_type": "code",
      "metadata": {
        "id": "9AS7mEQ9aey1",
        "colab_type": "code",
        "colab": {}
      },
      "source": [
        "!cp models/prod/chkpt-prod.h5 /content/drive/My\\ Drive/Cliner/chkpt-best-9.h5"
      ],
      "execution_count": 0,
      "outputs": []
    }
  ]
}